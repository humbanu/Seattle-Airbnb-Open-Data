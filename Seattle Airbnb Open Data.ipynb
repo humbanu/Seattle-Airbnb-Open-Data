{
 "cells": [
  {
   "cell_type": "markdown",
   "metadata": {},
   "source": [
    "## Seattle Airbnb Open Data Analysis\n",
    "    \n",
    "    The Seattle AirBnB Dataset contains data about AirBnB listings in Seattle, calendar availability for each of these listings as well as user reviews on the listings. Using this dataset, I am going to attempt to answer the business questions below using a CRISP-DM Process.\n",
    "    \n",
    "### CRISP-DM \n",
    " 1. Business Understanding \n",
    " 2. Data Understanding \n",
    " 3. Prepare Data \n",
    " 4. Data Modeling\n",
    " 5. Evaluate the Results\n",
    " \n",
    "### Business Questions    \n",
    "\n",
    "#### Pricing Trends:\n",
    "  When and where to stay:\n",
    "  1. What are the most popular booked property types in Seattle?\n",
    "  2. What are the peak booking months in Seattle?\n",
    "  3. What are the most and least popular locations to book based on price?\n",
    "\n",
    "#### Airbnb review sentiments in Seattle:\n",
    " .4. What are the most and least popular locations to book based on Reviews?\n",
    "    \n",
    "#### Price Prediction:\n",
    " .5. What factors of the listing correlate best for predicting price?"
   ]
  },
  {
   "cell_type": "markdown",
   "metadata": {},
   "source": [
    "## Importing and looking at the data. \n",
    "\n"
   ]
  },
  {
   "cell_type": "code",
   "execution_count": 86,
   "metadata": {
    "collapsed": true
   },
   "outputs": [],
   "source": [
    "import numpy as np\n",
    "import os\n",
    "import pandas as pd\n",
    "import matplotlib.pyplot as plt\n",
    "from IPython import display\n",
    "%matplotlib inline\n",
    "import nltk\n",
    "from nltk.sentiment.vader import SentimentIntensityAnalyzer\n",
    "from collections import Counter\n",
    "from sklearn.model_selection import train_test_split\n",
    "from sklearn.linear_model import LinearRegression\n",
    "from sklearn.metrics import r2_score\n"
   ]
  },
  {
   "cell_type": "code",
   "execution_count": 87,
   "metadata": {},
   "outputs": [
    {
     "data": {
      "text/plain": [
       "'C:\\\\Users\\\\humbertitob98\\\\Desktop\\\\Education\\\\Udacity 2021'"
      ]
     },
     "execution_count": 87,
     "metadata": {},
     "output_type": "execute_result"
    }
   ],
   "source": [
    "pwd"
   ]
  },
  {
   "cell_type": "markdown",
   "metadata": {},
   "source": [
    " ### 2. Data Understanding \n",
    "     Below I set up the dataframes to see our data is Calendar and prices, Listing information, and Reviews\n"
   ]
  },
  {
   "cell_type": "code",
   "execution_count": 88,
   "metadata": {},
   "outputs": [
    {
     "data": {
      "text/html": [
       "<div>\n",
       "<style>\n",
       "    .dataframe thead tr:only-child th {\n",
       "        text-align: right;\n",
       "    }\n",
       "\n",
       "    .dataframe thead th {\n",
       "        text-align: left;\n",
       "    }\n",
       "\n",
       "    .dataframe tbody tr th {\n",
       "        vertical-align: top;\n",
       "    }\n",
       "</style>\n",
       "<table border=\"1\" class=\"dataframe\">\n",
       "  <thead>\n",
       "    <tr style=\"text-align: right;\">\n",
       "      <th></th>\n",
       "      <th>listing_id</th>\n",
       "      <th>date</th>\n",
       "      <th>available</th>\n",
       "      <th>price</th>\n",
       "    </tr>\n",
       "  </thead>\n",
       "  <tbody>\n",
       "    <tr>\n",
       "      <th>0</th>\n",
       "      <td>241032</td>\n",
       "      <td>2016-01-04</td>\n",
       "      <td>t</td>\n",
       "      <td>$85.00</td>\n",
       "    </tr>\n",
       "    <tr>\n",
       "      <th>1</th>\n",
       "      <td>241032</td>\n",
       "      <td>2016-01-05</td>\n",
       "      <td>t</td>\n",
       "      <td>$85.00</td>\n",
       "    </tr>\n",
       "    <tr>\n",
       "      <th>2</th>\n",
       "      <td>241032</td>\n",
       "      <td>2016-01-06</td>\n",
       "      <td>f</td>\n",
       "      <td>NaN</td>\n",
       "    </tr>\n",
       "    <tr>\n",
       "      <th>3</th>\n",
       "      <td>241032</td>\n",
       "      <td>2016-01-07</td>\n",
       "      <td>f</td>\n",
       "      <td>NaN</td>\n",
       "    </tr>\n",
       "    <tr>\n",
       "      <th>4</th>\n",
       "      <td>241032</td>\n",
       "      <td>2016-01-08</td>\n",
       "      <td>f</td>\n",
       "      <td>NaN</td>\n",
       "    </tr>\n",
       "  </tbody>\n",
       "</table>\n",
       "</div>"
      ],
      "text/plain": [
       "   listing_id        date available   price\n",
       "0      241032  2016-01-04         t  $85.00\n",
       "1      241032  2016-01-05         t  $85.00\n",
       "2      241032  2016-01-06         f     NaN\n",
       "3      241032  2016-01-07         f     NaN\n",
       "4      241032  2016-01-08         f     NaN"
      ]
     },
     "execution_count": 88,
     "metadata": {},
     "output_type": "execute_result"
    }
   ],
   "source": [
    "df_calendar = pd.read_csv('C:\\\\Users\\\\humbertitob98\\\\Desktop\\\\Education\\\\Udacity 2021\\\\calendar.csv')\n",
    "df_calendar.head()"
   ]
  },
  {
   "cell_type": "code",
   "execution_count": 89,
   "metadata": {},
   "outputs": [
    {
     "data": {
      "text/html": [
       "<div>\n",
       "<style>\n",
       "    .dataframe thead tr:only-child th {\n",
       "        text-align: right;\n",
       "    }\n",
       "\n",
       "    .dataframe thead th {\n",
       "        text-align: left;\n",
       "    }\n",
       "\n",
       "    .dataframe tbody tr th {\n",
       "        vertical-align: top;\n",
       "    }\n",
       "</style>\n",
       "<table border=\"1\" class=\"dataframe\">\n",
       "  <thead>\n",
       "    <tr style=\"text-align: right;\">\n",
       "      <th></th>\n",
       "      <th>id</th>\n",
       "      <th>listing_url</th>\n",
       "      <th>scrape_id</th>\n",
       "      <th>last_scraped</th>\n",
       "      <th>name</th>\n",
       "      <th>summary</th>\n",
       "      <th>space</th>\n",
       "      <th>description</th>\n",
       "      <th>experiences_offered</th>\n",
       "      <th>neighborhood_overview</th>\n",
       "      <th>...</th>\n",
       "      <th>review_scores_value</th>\n",
       "      <th>requires_license</th>\n",
       "      <th>license</th>\n",
       "      <th>jurisdiction_names</th>\n",
       "      <th>instant_bookable</th>\n",
       "      <th>cancellation_policy</th>\n",
       "      <th>require_guest_profile_picture</th>\n",
       "      <th>require_guest_phone_verification</th>\n",
       "      <th>calculated_host_listings_count</th>\n",
       "      <th>reviews_per_month</th>\n",
       "    </tr>\n",
       "  </thead>\n",
       "  <tbody>\n",
       "    <tr>\n",
       "      <th>0</th>\n",
       "      <td>241032</td>\n",
       "      <td>https://www.airbnb.com/rooms/241032</td>\n",
       "      <td>20160104002432</td>\n",
       "      <td>2016-01-04</td>\n",
       "      <td>Stylish Queen Anne Apartment</td>\n",
       "      <td>NaN</td>\n",
       "      <td>Make your self at home in this charming one-be...</td>\n",
       "      <td>Make your self at home in this charming one-be...</td>\n",
       "      <td>none</td>\n",
       "      <td>NaN</td>\n",
       "      <td>...</td>\n",
       "      <td>10.0</td>\n",
       "      <td>f</td>\n",
       "      <td>NaN</td>\n",
       "      <td>WASHINGTON</td>\n",
       "      <td>f</td>\n",
       "      <td>moderate</td>\n",
       "      <td>f</td>\n",
       "      <td>f</td>\n",
       "      <td>2</td>\n",
       "      <td>4.07</td>\n",
       "    </tr>\n",
       "    <tr>\n",
       "      <th>1</th>\n",
       "      <td>953595</td>\n",
       "      <td>https://www.airbnb.com/rooms/953595</td>\n",
       "      <td>20160104002432</td>\n",
       "      <td>2016-01-04</td>\n",
       "      <td>Bright &amp; Airy Queen Anne Apartment</td>\n",
       "      <td>Chemically sensitive? We've removed the irrita...</td>\n",
       "      <td>Beautiful, hypoallergenic apartment in an extr...</td>\n",
       "      <td>Chemically sensitive? We've removed the irrita...</td>\n",
       "      <td>none</td>\n",
       "      <td>Queen Anne is a wonderful, truly functional vi...</td>\n",
       "      <td>...</td>\n",
       "      <td>10.0</td>\n",
       "      <td>f</td>\n",
       "      <td>NaN</td>\n",
       "      <td>WASHINGTON</td>\n",
       "      <td>f</td>\n",
       "      <td>strict</td>\n",
       "      <td>t</td>\n",
       "      <td>t</td>\n",
       "      <td>6</td>\n",
       "      <td>1.48</td>\n",
       "    </tr>\n",
       "    <tr>\n",
       "      <th>2</th>\n",
       "      <td>3308979</td>\n",
       "      <td>https://www.airbnb.com/rooms/3308979</td>\n",
       "      <td>20160104002432</td>\n",
       "      <td>2016-01-04</td>\n",
       "      <td>New Modern House-Amazing water view</td>\n",
       "      <td>New modern house built in 2013.  Spectacular s...</td>\n",
       "      <td>Our house is modern, light and fresh with a wa...</td>\n",
       "      <td>New modern house built in 2013.  Spectacular s...</td>\n",
       "      <td>none</td>\n",
       "      <td>Upper Queen Anne is a charming neighborhood fu...</td>\n",
       "      <td>...</td>\n",
       "      <td>10.0</td>\n",
       "      <td>f</td>\n",
       "      <td>NaN</td>\n",
       "      <td>WASHINGTON</td>\n",
       "      <td>f</td>\n",
       "      <td>strict</td>\n",
       "      <td>f</td>\n",
       "      <td>f</td>\n",
       "      <td>2</td>\n",
       "      <td>1.15</td>\n",
       "    </tr>\n",
       "    <tr>\n",
       "      <th>3</th>\n",
       "      <td>7421966</td>\n",
       "      <td>https://www.airbnb.com/rooms/7421966</td>\n",
       "      <td>20160104002432</td>\n",
       "      <td>2016-01-04</td>\n",
       "      <td>Queen Anne Chateau</td>\n",
       "      <td>A charming apartment that sits atop Queen Anne...</td>\n",
       "      <td>NaN</td>\n",
       "      <td>A charming apartment that sits atop Queen Anne...</td>\n",
       "      <td>none</td>\n",
       "      <td>NaN</td>\n",
       "      <td>...</td>\n",
       "      <td>NaN</td>\n",
       "      <td>f</td>\n",
       "      <td>NaN</td>\n",
       "      <td>WASHINGTON</td>\n",
       "      <td>f</td>\n",
       "      <td>flexible</td>\n",
       "      <td>f</td>\n",
       "      <td>f</td>\n",
       "      <td>1</td>\n",
       "      <td>NaN</td>\n",
       "    </tr>\n",
       "    <tr>\n",
       "      <th>4</th>\n",
       "      <td>278830</td>\n",
       "      <td>https://www.airbnb.com/rooms/278830</td>\n",
       "      <td>20160104002432</td>\n",
       "      <td>2016-01-04</td>\n",
       "      <td>Charming craftsman 3 bdm house</td>\n",
       "      <td>Cozy family craftman house in beautiful neighb...</td>\n",
       "      <td>Cozy family craftman house in beautiful neighb...</td>\n",
       "      <td>Cozy family craftman house in beautiful neighb...</td>\n",
       "      <td>none</td>\n",
       "      <td>We are in the beautiful neighborhood of Queen ...</td>\n",
       "      <td>...</td>\n",
       "      <td>9.0</td>\n",
       "      <td>f</td>\n",
       "      <td>NaN</td>\n",
       "      <td>WASHINGTON</td>\n",
       "      <td>f</td>\n",
       "      <td>strict</td>\n",
       "      <td>f</td>\n",
       "      <td>f</td>\n",
       "      <td>1</td>\n",
       "      <td>0.89</td>\n",
       "    </tr>\n",
       "  </tbody>\n",
       "</table>\n",
       "<p>5 rows × 92 columns</p>\n",
       "</div>"
      ],
      "text/plain": [
       "        id                           listing_url       scrape_id last_scraped  \\\n",
       "0   241032   https://www.airbnb.com/rooms/241032  20160104002432   2016-01-04   \n",
       "1   953595   https://www.airbnb.com/rooms/953595  20160104002432   2016-01-04   \n",
       "2  3308979  https://www.airbnb.com/rooms/3308979  20160104002432   2016-01-04   \n",
       "3  7421966  https://www.airbnb.com/rooms/7421966  20160104002432   2016-01-04   \n",
       "4   278830   https://www.airbnb.com/rooms/278830  20160104002432   2016-01-04   \n",
       "\n",
       "                                  name  \\\n",
       "0         Stylish Queen Anne Apartment   \n",
       "1   Bright & Airy Queen Anne Apartment   \n",
       "2  New Modern House-Amazing water view   \n",
       "3                   Queen Anne Chateau   \n",
       "4       Charming craftsman 3 bdm house   \n",
       "\n",
       "                                             summary  \\\n",
       "0                                                NaN   \n",
       "1  Chemically sensitive? We've removed the irrita...   \n",
       "2  New modern house built in 2013.  Spectacular s...   \n",
       "3  A charming apartment that sits atop Queen Anne...   \n",
       "4  Cozy family craftman house in beautiful neighb...   \n",
       "\n",
       "                                               space  \\\n",
       "0  Make your self at home in this charming one-be...   \n",
       "1  Beautiful, hypoallergenic apartment in an extr...   \n",
       "2  Our house is modern, light and fresh with a wa...   \n",
       "3                                                NaN   \n",
       "4  Cozy family craftman house in beautiful neighb...   \n",
       "\n",
       "                                         description experiences_offered  \\\n",
       "0  Make your self at home in this charming one-be...                none   \n",
       "1  Chemically sensitive? We've removed the irrita...                none   \n",
       "2  New modern house built in 2013.  Spectacular s...                none   \n",
       "3  A charming apartment that sits atop Queen Anne...                none   \n",
       "4  Cozy family craftman house in beautiful neighb...                none   \n",
       "\n",
       "                               neighborhood_overview        ...         \\\n",
       "0                                                NaN        ...          \n",
       "1  Queen Anne is a wonderful, truly functional vi...        ...          \n",
       "2  Upper Queen Anne is a charming neighborhood fu...        ...          \n",
       "3                                                NaN        ...          \n",
       "4  We are in the beautiful neighborhood of Queen ...        ...          \n",
       "\n",
       "  review_scores_value requires_license license jurisdiction_names  \\\n",
       "0                10.0                f     NaN         WASHINGTON   \n",
       "1                10.0                f     NaN         WASHINGTON   \n",
       "2                10.0                f     NaN         WASHINGTON   \n",
       "3                 NaN                f     NaN         WASHINGTON   \n",
       "4                 9.0                f     NaN         WASHINGTON   \n",
       "\n",
       "  instant_bookable cancellation_policy  require_guest_profile_picture  \\\n",
       "0                f            moderate                              f   \n",
       "1                f              strict                              t   \n",
       "2                f              strict                              f   \n",
       "3                f            flexible                              f   \n",
       "4                f              strict                              f   \n",
       "\n",
       "  require_guest_phone_verification calculated_host_listings_count  \\\n",
       "0                                f                              2   \n",
       "1                                t                              6   \n",
       "2                                f                              2   \n",
       "3                                f                              1   \n",
       "4                                f                              1   \n",
       "\n",
       "  reviews_per_month  \n",
       "0              4.07  \n",
       "1              1.48  \n",
       "2              1.15  \n",
       "3               NaN  \n",
       "4              0.89  \n",
       "\n",
       "[5 rows x 92 columns]"
      ]
     },
     "execution_count": 89,
     "metadata": {},
     "output_type": "execute_result"
    }
   ],
   "source": [
    "# listings data set\n",
    "df_listings = pd.read_csv('C:\\\\Users\\\\humbertitob98\\\\Desktop\\\\Education\\\\Udacity 2021\\\\listings.csv')\n",
    "df_listings.head()"
   ]
  },
  {
   "cell_type": "code",
   "execution_count": 90,
   "metadata": {},
   "outputs": [
    {
     "data": {
      "text/html": [
       "<div>\n",
       "<style>\n",
       "    .dataframe thead tr:only-child th {\n",
       "        text-align: right;\n",
       "    }\n",
       "\n",
       "    .dataframe thead th {\n",
       "        text-align: left;\n",
       "    }\n",
       "\n",
       "    .dataframe tbody tr th {\n",
       "        vertical-align: top;\n",
       "    }\n",
       "</style>\n",
       "<table border=\"1\" class=\"dataframe\">\n",
       "  <thead>\n",
       "    <tr style=\"text-align: right;\">\n",
       "      <th></th>\n",
       "      <th>listing_id</th>\n",
       "      <th>id</th>\n",
       "      <th>date</th>\n",
       "      <th>reviewer_id</th>\n",
       "      <th>reviewer_name</th>\n",
       "      <th>comments</th>\n",
       "    </tr>\n",
       "  </thead>\n",
       "  <tbody>\n",
       "    <tr>\n",
       "      <th>0</th>\n",
       "      <td>7202016</td>\n",
       "      <td>38917982</td>\n",
       "      <td>2015-07-19</td>\n",
       "      <td>28943674</td>\n",
       "      <td>Bianca</td>\n",
       "      <td>Cute and cozy place. Perfect location to every...</td>\n",
       "    </tr>\n",
       "    <tr>\n",
       "      <th>1</th>\n",
       "      <td>7202016</td>\n",
       "      <td>39087409</td>\n",
       "      <td>2015-07-20</td>\n",
       "      <td>32440555</td>\n",
       "      <td>Frank</td>\n",
       "      <td>Kelly has a great room in a very central locat...</td>\n",
       "    </tr>\n",
       "    <tr>\n",
       "      <th>2</th>\n",
       "      <td>7202016</td>\n",
       "      <td>39820030</td>\n",
       "      <td>2015-07-26</td>\n",
       "      <td>37722850</td>\n",
       "      <td>Ian</td>\n",
       "      <td>Very spacious apartment, and in a great neighb...</td>\n",
       "    </tr>\n",
       "    <tr>\n",
       "      <th>3</th>\n",
       "      <td>7202016</td>\n",
       "      <td>40813543</td>\n",
       "      <td>2015-08-02</td>\n",
       "      <td>33671805</td>\n",
       "      <td>George</td>\n",
       "      <td>Close to Seattle Center and all it has to offe...</td>\n",
       "    </tr>\n",
       "    <tr>\n",
       "      <th>4</th>\n",
       "      <td>7202016</td>\n",
       "      <td>41986501</td>\n",
       "      <td>2015-08-10</td>\n",
       "      <td>34959538</td>\n",
       "      <td>Ming</td>\n",
       "      <td>Kelly was a great host and very accommodating ...</td>\n",
       "    </tr>\n",
       "  </tbody>\n",
       "</table>\n",
       "</div>"
      ],
      "text/plain": [
       "   listing_id        id        date  reviewer_id reviewer_name  \\\n",
       "0     7202016  38917982  2015-07-19     28943674        Bianca   \n",
       "1     7202016  39087409  2015-07-20     32440555         Frank   \n",
       "2     7202016  39820030  2015-07-26     37722850           Ian   \n",
       "3     7202016  40813543  2015-08-02     33671805        George   \n",
       "4     7202016  41986501  2015-08-10     34959538          Ming   \n",
       "\n",
       "                                            comments  \n",
       "0  Cute and cozy place. Perfect location to every...  \n",
       "1  Kelly has a great room in a very central locat...  \n",
       "2  Very spacious apartment, and in a great neighb...  \n",
       "3  Close to Seattle Center and all it has to offe...  \n",
       "4  Kelly was a great host and very accommodating ...  "
      ]
     },
     "execution_count": 90,
     "metadata": {},
     "output_type": "execute_result"
    }
   ],
   "source": [
    "# review data set\n",
    "df_reviews = pd.read_csv('C:\\\\Users\\\\humbertitob98\\\\Desktop\\\\Education\\\\Udacity 2021\\\\reviews.csv')\n",
    "df_reviews.head()"
   ]
  },
  {
   "cell_type": "markdown",
   "metadata": {},
   "source": [
    " ### 3. Prepare Data\n",
    "     Below I am preparing the Calendar, Listings and Reviews Data Sets. Through this preperation we see our findings. "
   ]
  },
  {
   "cell_type": "markdown",
   "metadata": {},
   "source": [
    "## CALENDAR Data Set\n",
    "\n",
    "In the Calendar data set I am preparing the data to show the numbers of rows and columns in dataset, showing columns with the missing values and columns that have no missing values. I also describe the dataset to see features about each column. \n"
   ]
  },
  {
   "cell_type": "code",
   "execution_count": 91,
   "metadata": {},
   "outputs": [
    {
     "name": "stdout",
     "output_type": "stream",
     "text": [
      "Number of rows and columns: (1393570, 4)\n",
      "\n",
      "Percentage of Missing values: listing_id     0.000000\n",
      "date           0.000000\n",
      "available      0.000000\n",
      "price         32.938998\n",
      "dtype: float64\n",
      "\n",
      "          listing_id        date available    price\n",
      "count   1.393570e+06     1393570   1393570   934542\n",
      "unique           NaN         365         2      669\n",
      "top              NaN  2016-02-29         t  $150.00\n",
      "freq             NaN        3818    934542    36646\n",
      "mean    5.550111e+06         NaN       NaN      NaN\n",
      "std     2.962274e+06         NaN       NaN      NaN\n",
      "min     3.335000e+03         NaN       NaN      NaN\n",
      "25%     3.258213e+06         NaN       NaN      NaN\n",
      "50%     6.118244e+06         NaN       NaN      NaN\n",
      "75%     8.035212e+06         NaN       NaN      NaN\n",
      "max     1.034016e+07         NaN       NaN      NaN\n"
     ]
    }
   ],
   "source": [
    "###calendar dataset\n",
    "###Number of rows and columns\n",
    "###Number of missing values for price\n",
    "print('Number of rows and columns:',df_calendar.shape)\n",
    "print()\n",
    "\n",
    "print('Percentage of Missing values:',(df_calendar.isnull().sum()/len(df_calendar))*100)\n",
    "print()\n",
    "\n",
    "print(df_calendar.describe(include='all'))"
   ]
  },
  {
   "cell_type": "markdown",
   "metadata": {},
   "source": [
    "#### FINDINGS\n",
    "there will be little data prep required to use the calendar dataset. Looks like only the the price column is missing values, it might just  be because listing is not available for those days."
   ]
  },
  {
   "cell_type": "markdown",
   "metadata": {},
   "source": [
    "### LISTINGS Data Set\n",
    "\n",
    "In the Calendar data set I am preparing the data to show the Number of rows and columns in the dataset, Columns with missing values and columns that have no missing values, I am describing the dataset to see features about each column, and I explore some of the categorical features."
   ]
  },
  {
   "cell_type": "code",
   "execution_count": 92,
   "metadata": {},
   "outputs": [
    {
     "name": "stdout",
     "output_type": "stream",
     "text": [
      "Number of rows and columns:  (3818, 92)\n",
      "id                                     0\n",
      "listing_url                            0\n",
      "scrape_id                              0\n",
      "last_scraped                           0\n",
      "name                                   0\n",
      "summary                              177\n",
      "space                                569\n",
      "description                            0\n",
      "experiences_offered                    0\n",
      "neighborhood_overview               1032\n",
      "notes                               1606\n",
      "transit                              934\n",
      "thumbnail_url                        320\n",
      "medium_url                           320\n",
      "picture_url                            0\n",
      "xl_picture_url                       320\n",
      "host_id                                0\n",
      "host_url                               0\n",
      "host_name                              2\n",
      "host_since                             2\n",
      "host_location                          8\n",
      "host_about                           859\n",
      "host_response_time                   523\n",
      "host_response_rate                   523\n",
      "host_acceptance_rate                 773\n",
      "host_is_superhost                      2\n",
      "host_thumbnail_url                     2\n",
      "host_picture_url                       2\n",
      "host_neighbourhood                   300\n",
      "host_listings_count                    2\n",
      "                                    ... \n",
      "guests_included                        0\n",
      "extra_people                           0\n",
      "minimum_nights                         0\n",
      "maximum_nights                         0\n",
      "calendar_updated                       0\n",
      "has_availability                       0\n",
      "availability_30                        0\n",
      "availability_60                        0\n",
      "availability_90                        0\n",
      "availability_365                       0\n",
      "calendar_last_scraped                  0\n",
      "number_of_reviews                      0\n",
      "first_review                         627\n",
      "last_review                          627\n",
      "review_scores_rating                 647\n",
      "review_scores_accuracy               658\n",
      "review_scores_cleanliness            653\n",
      "review_scores_checkin                658\n",
      "review_scores_communication          651\n",
      "review_scores_location               655\n",
      "review_scores_value                  656\n",
      "requires_license                       0\n",
      "license                             3818\n",
      "jurisdiction_names                     0\n",
      "instant_bookable                       0\n",
      "cancellation_policy                    0\n",
      "require_guest_profile_picture          0\n",
      "require_guest_phone_verification       0\n",
      "calculated_host_listings_count         0\n",
      "reviews_per_month                    627\n",
      "Length: 92, dtype: int64\n"
     ]
    }
   ],
   "source": [
    "# Print rows and columns in calendar data set\n",
    "print(\"Number of rows and columns: \", df_listings.shape)\n",
    "\n",
    "print(df_listings.isnull().sum())"
   ]
  },
  {
   "cell_type": "code",
   "execution_count": 93,
   "metadata": {},
   "outputs": [
    {
     "name": "stdout",
     "output_type": "stream",
     "text": [
      "                  id                           listing_url     scrape_id  \\\n",
      "count   3.818000e+03                                  3818  3.818000e+03   \n",
      "unique           NaN                                  3818           NaN   \n",
      "top              NaN  https://www.airbnb.com/rooms/8193241           NaN   \n",
      "freq             NaN                                     1           NaN   \n",
      "mean    5.550111e+06                                   NaN  2.016010e+13   \n",
      "std     2.962660e+06                                   NaN  0.000000e+00   \n",
      "min     3.335000e+03                                   NaN  2.016010e+13   \n",
      "25%     3.258256e+06                                   NaN  2.016010e+13   \n",
      "50%     6.118244e+06                                   NaN  2.016010e+13   \n",
      "75%     8.035127e+06                                   NaN  2.016010e+13   \n",
      "max     1.034016e+07                                   NaN  2.016010e+13   \n",
      "\n",
      "       last_scraped                    name  \\\n",
      "count          3818                    3818   \n",
      "unique            1                    3792   \n",
      "top      2016-01-04  Capitol Hill Apartment   \n",
      "freq           3818                       3   \n",
      "mean            NaN                     NaN   \n",
      "std             NaN                     NaN   \n",
      "min             NaN                     NaN   \n",
      "25%             NaN                     NaN   \n",
      "50%             NaN                     NaN   \n",
      "75%             NaN                     NaN   \n",
      "max             NaN                     NaN   \n",
      "\n",
      "                                                  summary  \\\n",
      "count                                                3641   \n",
      "unique                                               3478   \n",
      "top     This is a modern fully-furnished studio apartm...   \n",
      "freq                                                   15   \n",
      "mean                                                  NaN   \n",
      "std                                                   NaN   \n",
      "min                                                   NaN   \n",
      "25%                                                   NaN   \n",
      "50%                                                   NaN   \n",
      "75%                                                   NaN   \n",
      "max                                                   NaN   \n",
      "\n",
      "                                                    space  \\\n",
      "count                                                3249   \n",
      "unique                                               3119   \n",
      "top     *Note: This fall, there will be major renovati...   \n",
      "freq                                                   14   \n",
      "mean                                                  NaN   \n",
      "std                                                   NaN   \n",
      "min                                                   NaN   \n",
      "25%                                                   NaN   \n",
      "50%                                                   NaN   \n",
      "75%                                                   NaN   \n",
      "max                                                   NaN   \n",
      "\n",
      "                                              description experiences_offered  \\\n",
      "count                                                3818                3818   \n",
      "unique                                               3742                   1   \n",
      "top     Our space is a mix of a hostel and a home. We ...                none   \n",
      "freq                                                   10                3818   \n",
      "mean                                                  NaN                 NaN   \n",
      "std                                                   NaN                 NaN   \n",
      "min                                                   NaN                 NaN   \n",
      "25%                                                   NaN                 NaN   \n",
      "50%                                                   NaN                 NaN   \n",
      "75%                                                   NaN                 NaN   \n",
      "max                                                   NaN                 NaN   \n",
      "\n",
      "                                    neighborhood_overview        ...         \\\n",
      "count                                                2786        ...          \n",
      "unique                                               2506        ...          \n",
      "top     Wallingford is a mostly-residential neighborho...        ...          \n",
      "freq                                                   17        ...          \n",
      "mean                                                  NaN        ...          \n",
      "std                                                   NaN        ...          \n",
      "min                                                   NaN        ...          \n",
      "25%                                                   NaN        ...          \n",
      "50%                                                   NaN        ...          \n",
      "75%                                                   NaN        ...          \n",
      "max                                                   NaN        ...          \n",
      "\n",
      "       review_scores_value requires_license license jurisdiction_names  \\\n",
      "count          3162.000000             3818     0.0               3818   \n",
      "unique                 NaN                1     NaN                  1   \n",
      "top                    NaN                f     NaN         WASHINGTON   \n",
      "freq                   NaN             3818     NaN               3818   \n",
      "mean              9.452245              NaN     NaN                NaN   \n",
      "std               0.750259              NaN     NaN                NaN   \n",
      "min               2.000000              NaN     NaN                NaN   \n",
      "25%               9.000000              NaN     NaN                NaN   \n",
      "50%              10.000000              NaN     NaN                NaN   \n",
      "75%              10.000000              NaN     NaN                NaN   \n",
      "max              10.000000              NaN     NaN                NaN   \n",
      "\n",
      "       instant_bookable cancellation_policy  require_guest_profile_picture  \\\n",
      "count              3818                3818                           3818   \n",
      "unique                2                   3                              2   \n",
      "top                   f              strict                              f   \n",
      "freq               3227                1417                           3497   \n",
      "mean                NaN                 NaN                            NaN   \n",
      "std                 NaN                 NaN                            NaN   \n",
      "min                 NaN                 NaN                            NaN   \n",
      "25%                 NaN                 NaN                            NaN   \n",
      "50%                 NaN                 NaN                            NaN   \n",
      "75%                 NaN                 NaN                            NaN   \n",
      "max                 NaN                 NaN                            NaN   \n",
      "\n",
      "       require_guest_phone_verification calculated_host_listings_count  \\\n",
      "count                              3818                    3818.000000   \n",
      "unique                                2                            NaN   \n",
      "top                                   f                            NaN   \n",
      "freq                               3443                            NaN   \n",
      "mean                                NaN                       2.946307   \n",
      "std                                 NaN                       5.893029   \n",
      "min                                 NaN                       1.000000   \n",
      "25%                                 NaN                       1.000000   \n",
      "50%                                 NaN                       1.000000   \n",
      "75%                                 NaN                       2.000000   \n",
      "max                                 NaN                      37.000000   \n",
      "\n",
      "       reviews_per_month  \n",
      "count        3191.000000  \n",
      "unique               NaN  \n",
      "top                  NaN  \n",
      "freq                 NaN  \n",
      "mean            2.078919  \n",
      "std             1.822348  \n",
      "min             0.020000  \n",
      "25%             0.695000  \n",
      "50%             1.540000  \n",
      "75%             3.000000  \n",
      "max            12.150000  \n",
      "\n",
      "[11 rows x 92 columns]\n"
     ]
    }
   ],
   "source": [
    "# Describe\n",
    "print(df_listings.describe(include='all'))"
   ]
  },
  {
   "cell_type": "code",
   "execution_count": 94,
   "metadata": {},
   "outputs": [
    {
     "name": "stdout",
     "output_type": "stream",
     "text": [
      "Value counts for experiences_offered:  none    3818\n",
      "Name: experiences_offered, dtype: int64\n"
     ]
    }
   ],
   "source": [
    "# Exlporing categorical features: experiences_offered\n",
    "print('Value counts for experiences_offered: ', df_listings['experiences_offered'].value_counts())"
   ]
  },
  {
   "cell_type": "code",
   "execution_count": 95,
   "metadata": {},
   "outputs": [
    {
     "name": "stdout",
     "output_type": "stream",
     "text": [
      "Value counts for host_location:  Seattle, Washington, United States                                    3259\n",
      "US                                                                     246\n",
      "Spokane, Washington, United States                                      41\n",
      "Kent, Washington, United States                                         34\n",
      "Los Angeles, California, United States                                  13\n",
      "Bellevue, Washington, United States                                     12\n",
      "San Francisco, California, United States                                11\n",
      "Mercer Island, Washington, United States                                10\n",
      "Kirkland, Washington, United States                                      8\n",
      "New York, New York, United States                                        6\n",
      "Sammamish, Washington, United States                                     5\n",
      "Vashon, Washington, United States                                        5\n",
      "Seattle                                                                  5\n",
      "Shoreline, Washington, United States                                     5\n",
      "San Diego, California, United States                                     4\n",
      "Portland, Oregon, United States                                          4\n",
      "Vancouver, Washington, United States                                     4\n",
      "Seattle, Washington                                                      4\n",
      "Tucson, Arizona, United States                                           4\n",
      "San Francisco, California                                                3\n",
      "Vancouver, British Columbia, Canada                                      3\n",
      "Washington State, United States                                          3\n",
      "Blaine, Washington, United States                                        3\n",
      "Seattle/San Fransisco/Taipei                                             3\n",
      "Palm Springs, California, United States                                  3\n",
      "Issaquah, Washington, United States                                      3\n",
      "Montezuma,Costas Rica  and Seattle Wasington, United States              3\n",
      "Seattle and Bellingham, Washington, United States                        2\n",
      "Palo Alto, California, United States                                     2\n",
      "We live in the upper portion of the home                                 2\n",
      "                                                                      ... \n",
      "Houston, Texas, United States                                            1\n",
      "Ciudad Obregón, Sonora, Mexico                                           1\n",
      "Alamosa, Colorado, United States                                         1\n",
      "Washington State                                                         1\n",
      "Oakland, California, United States                                       1\n",
      "California                                                               1\n",
      "San Jose, California, United States                                      1\n",
      "Woodinville, Washington, United States                                   1\n",
      "Lincoln, Vermont, United States                                          1\n",
      "Burien, Washington, United States                                        1\n",
      "Luxembourg                                                               1\n",
      "USA (Seattle)/Germany (Lake Constance)                                   1\n",
      "White Pine, Tennessee, United States                                     1\n",
      "FR                                                                       1\n",
      "Mount Vernon, Washington, United States                                  1\n",
      "Newcastle, Washington, United States                                     1\n",
      "Ault, Colorado, United States                                            1\n",
      "Gosnold, Massachusetts, United States                                    1\n",
      "Lowell, Massachusetts, United States                                     1\n",
      "Kenilworth, Illinois, United States                                      1\n",
      "Seattle, Washington and London, England                                  1\n",
      "Port Townsend, Washington, United States                                 1\n",
      "West New York, New Jersey, United States                                 1\n",
      "Austin, Texas, United States                                             1\n",
      "Greenwood Village, Colorado, United States                               1\n",
      "I live between Princeville Kauai and Seattle Wa, homes both places       1\n",
      "West Seattle, Washington                                                 1\n",
      "Hilo, Hawaii, United States                                              1\n",
      "Las Vegas, Nevada, United States                                         1\n",
      "Rome, Lazio, Italy                                                       1\n",
      "Name: host_location, Length: 120, dtype: int64\n"
     ]
    }
   ],
   "source": [
    "# Exlporing categorical features: host_location\n",
    "print('Value counts for host_location: ', df_listings['host_location'].value_counts())"
   ]
  },
  {
   "cell_type": "markdown",
   "metadata": {},
   "source": [
    "###  4. Data Modeling\n",
    "    I begin to model our graphs to get be able to get visual graphical insight. \n",
    "    \n"
   ]
  },
  {
   "cell_type": "markdown",
   "metadata": {},
   "source": [
    "### FINDINGS\n",
    "There are no experiences offered for all rows. The host_location column needs to be standardized so we can better utilize it for analysis. \n",
    "For example: \"Seattle, Washington, United States\", \"Seattle\" and \"Seattle, Washington\" should be considered as the same."
   ]
  },
  {
   "cell_type": "code",
   "execution_count": 96,
   "metadata": {},
   "outputs": [
    {
     "data": {
      "image/png": "[encoded data removed]",
      "text/plain": [
       "<matplotlib.figure.Figure at 0x2e1c7e4c208>"
      ]
     },
     "metadata": {},
     "output_type": "display_data"
    }
   ],
   "source": [
    "#host_response_time\n",
    "host_response_vals = df_listings['host_response_time'].value_counts()\n",
    "(host_response_vals/df_listings.shape[0]).plot(kind=\"bar\");\n",
    "plt.title(\"Host Response Times\");"
   ]
  },
  {
   "cell_type": "markdown",
   "metadata": {},
   "source": [
    "### FINDINGS\n",
    "Most hosts respond within an hour and it's a down from there. "
   ]
  },
  {
   "cell_type": "markdown",
   "metadata": {},
   "source": [
    "### REVIEWS Data Set\n",
    "\n",
    "1. Number of rows and columns in the dataset\n",
    "2. Columns with missing values and columns that have no missing values\n",
    "3. Describe the dataset to see features about each column"
   ]
  },
  {
   "cell_type": "code",
   "execution_count": 99,
   "metadata": {},
   "outputs": [
    {
     "name": "stdout",
     "output_type": "stream",
     "text": [
      "Number of rows and columns:  (84849, 6)\n",
      "listing_id        0\n",
      "id                0\n",
      "date              0\n",
      "reviewer_id       0\n",
      "reviewer_name     0\n",
      "comments         17\n",
      "dtype: int64\n",
      "          listing_id            id        date   reviewer_id reviewer_name  \\\n",
      "count   8.484900e+04  8.484900e+04       84849  8.484900e+04         84849   \n",
      "unique           NaN           NaN        1930           NaN         14380   \n",
      "top              NaN           NaN  2015-09-21           NaN         David   \n",
      "freq             NaN           NaN         580           NaN           870   \n",
      "mean    3.005067e+06  3.058765e+07         NaN  1.701301e+07           NaN   \n",
      "std     2.472877e+06  1.636613e+07         NaN  1.353704e+07           NaN   \n",
      "min     4.291000e+03  3.721000e+03         NaN  1.500000e+01           NaN   \n",
      "25%     7.946330e+05  1.725127e+07         NaN  5.053141e+06           NaN   \n",
      "50%     2.488228e+06  3.228809e+07         NaN  1.413476e+07           NaN   \n",
      "75%     4.694479e+06  4.457648e+07         NaN  2.762402e+07           NaN   \n",
      "max     1.024814e+07  5.873651e+07         NaN  5.281274e+07           NaN   \n",
      "\n",
      "                                                 comments  \n",
      "count                                               84832  \n",
      "unique                                              84137  \n",
      "top     The host canceled this reservation the day bef...  \n",
      "freq                                                   57  \n",
      "mean                                                  NaN  \n",
      "std                                                   NaN  \n",
      "min                                                   NaN  \n",
      "25%                                                   NaN  \n",
      "50%                                                   NaN  \n",
      "75%                                                   NaN  \n",
      "max                                                   NaN  \n"
     ]
    }
   ],
   "source": [
    "# Print rows and columns in reviews data set then assess null values and describe\n",
    "print(\"Number of rows and columns: \", df_reviews.shape)\n",
    "\n",
    "print(df_reviews.isnull().sum())\n",
    "\n",
    "print(df_reviews.describe(include='all'))"
   ]
  },
  {
   "cell_type": "markdown",
   "metadata": {},
   "source": [
    "### Pricing Trends \n",
    "    When and Where to Book\n",
    "  1. What are the peak booking months in Seattle?\n",
    "  2. What are the most and least popular locations to book based on price?\n",
    "  3. What are the most and least popular locations to book based on reviews?  "
   ]
  },
  {
   "cell_type": "code",
   "execution_count": 100,
   "metadata": {},
   "outputs": [
    {
     "data": {
      "image/png": "[encoded data removed]",
      "text/plain": [
       "<matplotlib.figure.Figure at 0x2e1c1c0cef0>"
      ]
     },
     "metadata": {},
     "output_type": "display_data"
    }
   ],
   "source": [
    "# Q1 Plot the average price by month \n",
    "df_calendar['year'] = pd.DatetimeIndex(df_calendar['date']).year\n",
    "df_calendar['month'] = pd.DatetimeIndex(df_calendar['date']).month\n",
    "\n",
    "# for average price, we will be converting to float and removing the $ sign\n",
    "df_calendar['price'] = df_calendar['price'].replace('[\\$,]', '', regex=True).astype(float)\n",
    "\n",
    "df_calendar.groupby(['year','month'])[['price']].mean().plot(kind=\"bar\");"
   ]
  },
  {
   "cell_type": "code",
   "execution_count": 97,
   "metadata": {},
   "outputs": [
    {
     "data": {
      "image/png": "[encoded data removed]",
      "text/plain": [
       "<matplotlib.figure.Figure at 0x2e1c1a516a0>"
      ]
     },
     "metadata": {},
     "output_type": "display_data"
    }
   ],
   "source": [
    "# neighborhood_group_cleansed\n",
    "neigh_vals = df_listings['neighbourhood_group_cleansed'].value_counts()\n",
    "(neigh_vals/df_listings.shape[0]).plot(kind=\"bar\");\n",
    "plt.title(\"Neighbourhood Group Cleansed\");"
   ]
  },
  {
   "cell_type": "code",
   "execution_count": 98,
   "metadata": {},
   "outputs": [
    {
     "data": {
      "image/png": "[encoded data removed]",
      "text/plain": [
       "<matplotlib.figure.Figure at 0x2e1c1b00b70>"
      ]
     },
     "metadata": {},
     "output_type": "display_data"
    }
   ],
   "source": [
    "# property_type\n",
    "prop_vals = df_listings['property_type'].value_counts()\n",
    "(prop_vals/df_listings.shape[0]).plot(kind=\"bar\");\n",
    "plt.title(\"Property Type\");"
   ]
  },
  {
   "cell_type": "markdown",
   "metadata": {},
   "source": [
    "### FINDINGS\n",
    "In the graph above June through August are the peak months, with July being the highest. We also see the most popular neighborhoods and that houses and apartments are most popular.\n",
    "\n",
    "The year starts out slow, with January having the lowest average price. In Spring and the holiday season, prices start to pick back up a little around Apr/May and Nov/Dec."
   ]
  },
  {
   "cell_type": "code",
   "execution_count": 101,
   "metadata": {},
   "outputs": [
    {
     "name": "stdout",
     "output_type": "stream",
     "text": [
      "                                price\n",
      "neighbourhood_cleansed               \n",
      "Southeast Magnolia         231.705882\n",
      "Portage Bay                227.857143\n",
      "Westlake                   194.470588\n",
      "West Queen Anne            187.769231\n",
      "Montlake                   182.789474\n",
      "Briarcliff                 176.571429\n",
      "Sunset Hill                176.055556\n",
      "Industrial District        173.333333\n",
      "Alki                       171.619048\n",
      "Windermere                 169.900000\n",
      "Pioneer Square             169.260870\n",
      "Central Business District  164.213592\n",
      "Fauntleroy                 164.100000\n",
      "Belltown                   162.893162\n",
      "East Queen Anne            159.414634\n",
      "Madrona                    158.234043\n",
      "Pike-Market                157.785714\n",
      "North Queen Anne           150.240741\n",
      "Green Lake                 149.018519\n",
      "Lawton Park                147.566667\n",
      "Holly Park                 147.166667\n",
      "North Admiral              146.408163\n",
      "View Ridge                 139.000000\n",
      "Lower Queen Anne           138.202128\n",
      "First Hill                 136.425926\n",
      "South Lake Union           135.481481\n",
      "Leschi                     134.358491\n",
      "Stevens                    133.210084\n",
      "Mann                       131.985075\n",
      "Madison Park               130.388889\n",
      "...                               ...\n",
      "Matthews Beach             107.105263\n",
      "International District     104.882353\n",
      "High Point                 104.357143\n",
      "Haller Lake                103.400000\n",
      "Greenwood                   98.820225\n",
      "Meadowbrook                 98.666667\n",
      "Mount Baker                 98.300000\n",
      "North Beacon Hill           96.884615\n",
      "Columbia City               95.017241\n",
      "Broadview                   94.705882\n",
      "University District         93.639344\n",
      "Roxhill                     92.500000\n",
      "Brighton                    91.230769\n",
      "South Park                  90.000000\n",
      "North College Park          89.105263\n",
      "Ravenna                     88.686567\n",
      "Dunlap                      88.300000\n",
      "Crown Hill                  87.666667\n",
      "Highland Park               86.272727\n",
      "South Beacon Hill           83.250000\n",
      "Bitter Lake                 83.000000\n",
      "Victory Heights             81.466667\n",
      "Riverview                   80.500000\n",
      "Maple Leaf                  80.261905\n",
      "Mid-Beacon Hill             79.933333\n",
      "North Delridge              76.375000\n",
      "Georgetown                  76.125000\n",
      "South Delridge              74.666667\n",
      "Olympic Hills               71.687500\n",
      "Rainier Beach               68.555556\n",
      "\n",
      "[87 rows x 1 columns]\n"
     ]
    },
    {
     "data": {
      "image/png": "[encoded data removed]",
      "text/plain": [
       "<matplotlib.figure.Figure at 0x2e1c1a80e48>"
      ]
     },
     "metadata": {},
     "output_type": "display_data"
    }
   ],
   "source": [
    "# Plot the average price by neighborhood\n",
    "\n",
    "# In order to average price, we will be converting it to float and removing the $ sign\n",
    "df_listings['price'] = df_listings['price'].replace('[\\$,]', '', regex=True).astype(float)\n",
    "\n",
    "print(df_listings.groupby(['neighbourhood_cleansed'])[['price']].mean().sort_values(by='price',ascending=False))\n",
    "df_listings.groupby(['neighbourhood_cleansed'])[['price']].mean().plot();"
   ]
  },
  {
   "cell_type": "code",
   "execution_count": 102,
   "metadata": {},
   "outputs": [
    {
     "data": {
      "image/png": "[encoded data removed]",
      "text/plain": [
       "<matplotlib.figure.Figure at 0x2e1c1a28f60>"
      ]
     },
     "metadata": {},
     "output_type": "display_data"
    }
   ],
   "source": [
    "# Q2 Plot top 10 neighborhoods\n",
    "top10_neigh = df_listings.groupby(['neighbourhood_cleansed'])[['price']].mean().sort_values(by='price',ascending=False).head()\n",
    "top10_neigh.plot(kind='bar');"
   ]
  },
  {
   "cell_type": "code",
   "execution_count": 103,
   "metadata": {},
   "outputs": [
    {
     "data": {
      "image/png": "[encoded data removed]",
      "text/plain": [
       "<matplotlib.figure.Figure at 0x2e1c1b3f2b0>"
      ]
     },
     "metadata": {},
     "output_type": "display_data"
    }
   ],
   "source": [
    "# Q3 Plot bottom 10 neighborhoods\n",
    "bottom10_neigh = df_listings.groupby(['neighbourhood_cleansed'])[['price']].mean().sort_values(by='price',ascending=False).tail()\n",
    "bottom10_neigh.plot(kind='bar');"
   ]
  },
  {
   "cell_type": "markdown",
   "metadata": {},
   "source": [
    "### FINDINGS\n",
    "There are definitely price fluctuations based on neighborhoods. The Southeast Magnolia neighborhood is the priciest of all, averaging at $231.\n",
    "\n",
    "Portage Bay is 2nd at $227.\n",
    "\n",
    "Rainier Beach is cheapest at $68 average price."
   ]
  },
  {
   "cell_type": "markdown",
   "metadata": {},
   "source": [
    "### Question 2 -  Airbnb review sentiments in Seattle\n",
    "    Here I ask What are the most and least popular locations to book based on Reviews focusing on the top 5."
   ]
  },
  {
   "cell_type": "code",
   "execution_count": 104,
   "metadata": {},
   "outputs": [
    {
     "data": {
      "text/html": [
       "<div>\n",
       "<style>\n",
       "    .dataframe thead tr:only-child th {\n",
       "        text-align: right;\n",
       "    }\n",
       "\n",
       "    .dataframe thead th {\n",
       "        text-align: left;\n",
       "    }\n",
       "\n",
       "    .dataframe tbody tr th {\n",
       "        vertical-align: top;\n",
       "    }\n",
       "</style>\n",
       "<table border=\"1\" class=\"dataframe\">\n",
       "  <thead>\n",
       "    <tr style=\"text-align: right;\">\n",
       "      <th></th>\n",
       "      <th>neighbourhood_cleansed</th>\n",
       "      <th>property_type</th>\n",
       "      <th>price</th>\n",
       "    </tr>\n",
       "  </thead>\n",
       "  <tbody>\n",
       "    <tr>\n",
       "      <th>0</th>\n",
       "      <td>Montlake</td>\n",
       "      <td>Apartment</td>\n",
       "      <td>133.333333</td>\n",
       "    </tr>\n",
       "    <tr>\n",
       "      <th>1</th>\n",
       "      <td>Montlake</td>\n",
       "      <td>House</td>\n",
       "      <td>191.533333</td>\n",
       "    </tr>\n",
       "    <tr>\n",
       "      <th>2</th>\n",
       "      <td>Portage Bay</td>\n",
       "      <td>Apartment</td>\n",
       "      <td>113.833333</td>\n",
       "    </tr>\n",
       "    <tr>\n",
       "      <th>3</th>\n",
       "      <td>Portage Bay</td>\n",
       "      <td>House</td>\n",
       "      <td>340.285714</td>\n",
       "    </tr>\n",
       "    <tr>\n",
       "      <th>4</th>\n",
       "      <td>Southeast Magnolia</td>\n",
       "      <td>Apartment</td>\n",
       "      <td>219.600000</td>\n",
       "    </tr>\n",
       "    <tr>\n",
       "      <th>5</th>\n",
       "      <td>Southeast Magnolia</td>\n",
       "      <td>House</td>\n",
       "      <td>234.100000</td>\n",
       "    </tr>\n",
       "    <tr>\n",
       "      <th>6</th>\n",
       "      <td>West Queen Anne</td>\n",
       "      <td>Apartment</td>\n",
       "      <td>128.208333</td>\n",
       "    </tr>\n",
       "    <tr>\n",
       "      <th>7</th>\n",
       "      <td>West Queen Anne</td>\n",
       "      <td>House</td>\n",
       "      <td>247.393939</td>\n",
       "    </tr>\n",
       "    <tr>\n",
       "      <th>8</th>\n",
       "      <td>Westlake</td>\n",
       "      <td>Apartment</td>\n",
       "      <td>142.400000</td>\n",
       "    </tr>\n",
       "    <tr>\n",
       "      <th>9</th>\n",
       "      <td>Westlake</td>\n",
       "      <td>House</td>\n",
       "      <td>168.000000</td>\n",
       "    </tr>\n",
       "  </tbody>\n",
       "</table>\n",
       "</div>"
      ],
      "text/plain": [
       "  neighbourhood_cleansed property_type       price\n",
       "0               Montlake     Apartment  133.333333\n",
       "1               Montlake         House  191.533333\n",
       "2            Portage Bay     Apartment  113.833333\n",
       "3            Portage Bay         House  340.285714\n",
       "4     Southeast Magnolia     Apartment  219.600000\n",
       "5     Southeast Magnolia         House  234.100000\n",
       "6        West Queen Anne     Apartment  128.208333\n",
       "7        West Queen Anne         House  247.393939\n",
       "8               Westlake     Apartment  142.400000\n",
       "9               Westlake         House  168.000000"
      ]
     },
     "execution_count": 104,
     "metadata": {},
     "output_type": "execute_result"
    }
   ],
   "source": [
    "# Explore property types within neighborhoods and how they impact price\n",
    "# Focus on the top 5 expensive Neighborhoods\n",
    "# Focus on property types - House and Apartment\n",
    "\n",
    "values_keep_neigh = ('Southeast Magnolia','Portage Bay','Westlake','West Queen Anne','Montlake')\n",
    "values_keep_prop = ('Apartment','House')\n",
    "df_listings_pruned1 = df_listings.loc[df_listings['neighbourhood_cleansed'].isin(values_keep_neigh)]\n",
    "df_listings_pruned2 = df_listings_pruned1.loc[df_listings['property_type'].isin(values_keep_prop)]\n",
    "\n",
    "df_neigh_prop = df_listings_pruned2.groupby(['neighbourhood_cleansed','property_type'])[['price']].mean().reset_index()\n",
    "df_neigh_prop"
   ]
  },
  {
   "cell_type": "code",
   "execution_count": 105,
   "metadata": {},
   "outputs": [
    {
     "data": {
      "text/plain": [
       "(5, 2)"
      ]
     },
     "execution_count": 105,
     "metadata": {},
     "output_type": "execute_result"
    }
   ],
   "source": [
    "price_arr = df_neigh_prop['price'].values\n",
    "price_arr = np.reshape(price_arr, (5,2))\n",
    "price_arr.shape"
   ]
  },
  {
   "cell_type": "code",
   "execution_count": 106,
   "metadata": {},
   "outputs": [
    {
     "data": {
      "text/html": [
       "<div>\n",
       "<style>\n",
       "    .dataframe thead tr:only-child th {\n",
       "        text-align: right;\n",
       "    }\n",
       "\n",
       "    .dataframe thead th {\n",
       "        text-align: left;\n",
       "    }\n",
       "\n",
       "    .dataframe tbody tr th {\n",
       "        vertical-align: top;\n",
       "    }\n",
       "</style>\n",
       "<table border=\"1\" class=\"dataframe\">\n",
       "  <thead>\n",
       "    <tr style=\"text-align: right;\">\n",
       "      <th></th>\n",
       "      <th>listing_id</th>\n",
       "      <th>comments</th>\n",
       "    </tr>\n",
       "  </thead>\n",
       "  <tbody>\n",
       "    <tr>\n",
       "      <th>0</th>\n",
       "      <td>7202016</td>\n",
       "      <td>Cute and cozy place. Perfect location to every...</td>\n",
       "    </tr>\n",
       "    <tr>\n",
       "      <th>1</th>\n",
       "      <td>7202016</td>\n",
       "      <td>Kelly has a great room in a very central locat...</td>\n",
       "    </tr>\n",
       "    <tr>\n",
       "      <th>2</th>\n",
       "      <td>7202016</td>\n",
       "      <td>Very spacious apartment, and in a great neighb...</td>\n",
       "    </tr>\n",
       "    <tr>\n",
       "      <th>3</th>\n",
       "      <td>7202016</td>\n",
       "      <td>Close to Seattle Center and all it has to offe...</td>\n",
       "    </tr>\n",
       "    <tr>\n",
       "      <th>4</th>\n",
       "      <td>7202016</td>\n",
       "      <td>Kelly was a great host and very accommodating ...</td>\n",
       "    </tr>\n",
       "  </tbody>\n",
       "</table>\n",
       "</div>"
      ],
      "text/plain": [
       "   listing_id                                           comments\n",
       "0     7202016  Cute and cozy place. Perfect location to every...\n",
       "1     7202016  Kelly has a great room in a very central locat...\n",
       "2     7202016  Very spacious apartment, and in a great neighb...\n",
       "3     7202016  Close to Seattle Center and all it has to offe...\n",
       "4     7202016  Kelly was a great host and very accommodating ..."
      ]
     },
     "execution_count": 106,
     "metadata": {},
     "output_type": "execute_result"
    }
   ],
   "source": [
    "# q2 Create a smaller data frame with just listing ids and review comments\n",
    "df_comments = df_reviews[['listing_id', 'comments']].copy()\n",
    "df_comments.head()"
   ]
  },
  {
   "cell_type": "code",
   "execution_count": 107,
   "metadata": {},
   "outputs": [
    {
     "data": {
      "text/plain": [
       "'West Queen Anne'"
      ]
     },
     "execution_count": 107,
     "metadata": {},
     "output_type": "execute_result"
    }
   ],
   "source": [
    "# Function to take a listing id and pass back the neighbourhood_cleansed field from the listings data set\n",
    "def get_neighborhood(listing_id):\n",
    "    '''\n",
    "    Function to take a listing id and pass back the neighbourhood_cleansed field from the listings data set\n",
    "    INPUT:\n",
    "    listing_id - listing_id field for a particular listing\n",
    "    OUTPUT:\n",
    "    neighbourhood - the neighbourhood_cleansed field associated with a particular listing_id\n",
    "    \n",
    "    Helps to map each listing_id to it's respective neighbourhood in order to associate reviews with neighbourhoods\n",
    "    '''\n",
    "    neighbourhood = df_listings.loc[df_listings['id'] == listing_id, 'neighbourhood_cleansed'].iloc[0]\n",
    "    return neighbourhood\n",
    "\n",
    "# Test function\n",
    "get_neighborhood(7421966)"
   ]
  },
  {
   "cell_type": "code",
   "execution_count": null,
   "metadata": {},
   "outputs": [
    {
     "data": {
      "text/html": [
       "<div>\n",
       "<style>\n",
       "    .dataframe thead tr:only-child th {\n",
       "        text-align: right;\n",
       "    }\n",
       "\n",
       "    .dataframe thead th {\n",
       "        text-align: left;\n",
       "    }\n",
       "\n",
       "    .dataframe tbody tr th {\n",
       "        vertical-align: top;\n",
       "    }\n",
       "</style>\n",
       "<table border=\"1\" class=\"dataframe\">\n",
       "  <thead>\n",
       "    <tr style=\"text-align: right;\">\n",
       "      <th></th>\n",
       "      <th>listing_id</th>\n",
       "      <th>comments</th>\n",
       "      <th>neighbourhood</th>\n",
       "    </tr>\n",
       "  </thead>\n",
       "  <tbody>\n",
       "    <tr>\n",
       "      <th>0</th>\n",
       "      <td>7202016</td>\n",
       "      <td>Cute and cozy place. Perfect location to every...</td>\n",
       "      <td>Lower Queen Anne</td>\n",
       "    </tr>\n",
       "    <tr>\n",
       "      <th>1</th>\n",
       "      <td>7202016</td>\n",
       "      <td>Kelly has a great room in a very central locat...</td>\n",
       "      <td>Lower Queen Anne</td>\n",
       "    </tr>\n",
       "    <tr>\n",
       "      <th>2</th>\n",
       "      <td>7202016</td>\n",
       "      <td>Very spacious apartment, and in a great neighb...</td>\n",
       "      <td>Lower Queen Anne</td>\n",
       "    </tr>\n",
       "    <tr>\n",
       "      <th>3</th>\n",
       "      <td>7202016</td>\n",
       "      <td>Close to Seattle Center and all it has to offe...</td>\n",
       "      <td>Lower Queen Anne</td>\n",
       "    </tr>\n",
       "    <tr>\n",
       "      <th>4</th>\n",
       "      <td>7202016</td>\n",
       "      <td>Kelly was a great host and very accommodating ...</td>\n",
       "      <td>Lower Queen Anne</td>\n",
       "    </tr>\n",
       "  </tbody>\n",
       "</table>\n",
       "</div>"
      ],
      "text/plain": [
       "   listing_id                                           comments  \\\n",
       "0     7202016  Cute and cozy place. Perfect location to every...   \n",
       "1     7202016  Kelly has a great room in a very central locat...   \n",
       "2     7202016  Very spacious apartment, and in a great neighb...   \n",
       "3     7202016  Close to Seattle Center and all it has to offe...   \n",
       "4     7202016  Kelly was a great host and very accommodating ...   \n",
       "\n",
       "      neighbourhood  \n",
       "0  Lower Queen Anne  \n",
       "1  Lower Queen Anne  \n",
       "2  Lower Queen Anne  \n",
       "3  Lower Queen Anne  \n",
       "4  Lower Queen Anne  "
      ]
     },
     "execution_count": 108,
     "metadata": {},
     "output_type": "execute_result"
    }
   ],
   "source": [
    "# Apply get_neighborhood function to the listing ids\n",
    "df_comments['neighbourhood'] = df_comments['listing_id'].apply(get_neighborhood)\n",
    "df_comments.head()"
   ]
  },
  {
   "cell_type": "code",
   "execution_count": null,
   "metadata": {
    "collapsed": true
   },
   "outputs": [],
   "source": [
    "#https://medium.com/analytics-vidhya/simplifying-social-media-sentiment-analysis-using-vader-in-python-f9e6ec6fc52f\n",
    "\n",
    "analyser = SentimentIntensityAnalyzer()\n",
    "\n",
    "def sentiment_analyzer_scores(sentence):\n",
    "    '''\n",
    "    Function to run sentiment intensity analyzer on a sentence and return compound polarity score\n",
    "    INPUT:\n",
    "    sentence - the text of the review comments \n",
    "    OUTPUT:\n",
    "    score['compound'] - the compound score combining the positive, negative and neutral scores\n",
    "    \n",
    "    Provides the compound score for a particular sentence for sentiment analysis\n",
    "    '''\n",
    "    sentence = str(sentence)\n",
    "    score = analyser.polarity_scores(sentence)\n",
    "    return score['compound']\n",
    "\n",
    "\n",
    "df_comments['polarity_score'] = df_comments['comments'].apply(sentiment_analyzer_scores)\n",
    "df_comments.head()"
   ]
  },
  {
   "cell_type": "code",
   "execution_count": null,
   "metadata": {},
   "outputs": [
    {
     "name": "stdout",
     "output_type": "stream",
     "text": [
      "Positive compound scores:  82455\n",
      "Negative compound scores:  838\n",
      "Neutral compound scores:  1556\n"
     ]
    }
   ],
   "source": [
    "# Print number of positive, negative and neutral compound polarity scores\n",
    "print('Positive compound scores: ',df_comments['polarity_score'][df_comments['polarity_score'] > 0].count())\n",
    "print('Negative compound scores: ',df_comments['polarity_score'][df_comments['polarity_score'] < 0].count())\n",
    "print('Neutral compound scores: ',df_comments['polarity_score'][df_comments['polarity_score'] == 0].count())"
   ]
  },
  {
   "cell_type": "code",
   "execution_count": null,
   "metadata": {
    "collapsed": true
   },
   "outputs": [],
   "source": [
    "# Group by neighbourhood and average the polarity scores\n",
    "neigh_polarity = df_comments.groupby('neighbourhood')[['polarity_score']].mean().sort_values(by='polarity_score',ascending=False)"
   ]
  },
  {
   "cell_type": "code",
   "execution_count": null,
   "metadata": {},
   "outputs": [
    {
     "data": {
      "image/png": "[encoded data removed]",
      "text/plain": [
       "<matplotlib.figure.Figure at 0x2e1bea180f0>"
      ]
     },
     "metadata": {},
     "output_type": "display_data"
    }
   ],
   "source": [
    "# Q4 Visualize top neighborhoods based on reviews\n",
    "neigh_polarity.head(10).plot(kind='bar');"
   ]
  },
  {
   "cell_type": "code",
   "execution_count": null,
   "metadata": {},
   "outputs": [
    {
     "data": {
      "image/png": "[encoded data removed]",
      "text/plain": [
       "<matplotlib.figure.Figure at 0x2e1bea185c0>"
      ]
     },
     "metadata": {},
     "output_type": "display_data"
    }
   ],
   "source": [
    "# Q4 Visualize bottom 10 neighborhoods based on reviews\n",
    "neigh_polarity.tail(10).plot(kind='bar');"
   ]
  },
  {
   "cell_type": "markdown",
   "metadata": {},
   "source": [
    "### FINDINGS\n",
    "In the graphs above we see that Roxhill, Cedar Park and Pinehurst have the top reviews. The lower ranking neighborhoods are University District, Holly Park and View Ridge"
   ]
  },
  {
   "cell_type": "markdown",
   "metadata": {},
   "source": [
    "### Question 3 - PRICE PREDICTION\n",
    "1. What factors correlate well to predicting price?"
   ]
  },
  {
   "cell_type": "code",
   "execution_count": null,
   "metadata": {},
   "outputs": [
    {
     "data": {
      "text/plain": [
       "0"
      ]
     },
     "execution_count": 114,
     "metadata": {},
     "output_type": "execute_result"
    }
   ],
   "source": [
    "# q3 Check if price has missing values, if it does, we want to remove those records from the dataset\n",
    "df_listings['price'].isnull().sum()"
   ]
  },
  {
   "cell_type": "code",
   "execution_count": null,
   "metadata": {},
   "outputs": [
    {
     "data": {
      "text/plain": [
       "(3818, 92)"
      ]
     },
     "execution_count": 115,
     "metadata": {},
     "output_type": "execute_result"
    }
   ],
   "source": [
    "df_listings.shape\n"
   ]
  },
  {
   "cell_type": "code",
   "execution_count": null,
   "metadata": {},
   "outputs": [
    {
     "data": {
      "text/plain": [
       "(3818, 64)"
      ]
     },
     "execution_count": 116,
     "metadata": {},
     "output_type": "execute_result"
    }
   ],
   "source": [
    "# Drop columns that are less likely to have an impact on price\n",
    "df_list = df_listings.copy()\n",
    "cols_less_impact = ['id','listing_url','scrape_id','last_scraped','thumbnail_url','medium_url','xl_picture_url','host_id','host_url','host_thumbnail_url','host_verifications','street','neighbourhood','neighbourhood_group_cleansed','zipcode','smart_location','country','latitude','longitude','weekly_price','monthly_price','calendar_updated','calendar_last_scraped','first_review','last_review','calculated_host_listings_count','reviews_per_month','license']\n",
    "df_list = df_list.drop(cols_less_impact, axis=1)\n",
    "df_list.shape"
   ]
  },
  {
   "cell_type": "code",
   "execution_count": null,
   "metadata": {},
   "outputs": [
    {
     "name": "stdout",
     "output_type": "stream",
     "text": [
      "host_listings_count 2\n",
      "host_total_listings_count 2\n",
      "bathrooms 16\n",
      "bedrooms 6\n",
      "beds 1\n",
      "square_feet 3721\n",
      "price 0\n",
      "review_scores_rating 647\n",
      "review_scores_accuracy 658\n",
      "review_scores_cleanliness 653\n",
      "review_scores_checkin 658\n",
      "review_scores_communication 651\n",
      "review_scores_location 655\n",
      "review_scores_value 656\n"
     ]
    }
   ],
   "source": [
    "num_cols = df_list.select_dtypes(include=['float', 'int']).columns\n",
    "for col in num_cols:\n",
    "    print(col,df_list[col].isnull().sum())"
   ]
  },
  {
   "cell_type": "markdown",
   "metadata": {
    "collapsed": true
   },
   "source": [
    "### FINDINGS\n",
    "These categories below have the highest impacts on price\n",
    "\n",
    "bathrooms - There are 16 rows with Nan for bathrooms. \n",
    "\n",
    "bedrooms - all the rows with blank bedroom field have beds value of at least 1.\n",
    "\n",
    "beds - For the 1 record that have beds as Nan, bed_type is specified as Real Bed, \n",
    "\n",
    "square_feet - majority of field is Nan, I am dropping this column\n",
    "\n",
    "host_listings_count and host_total_listings_count - There are only 2 rows with no values. "
   ]
  },
  {
   "cell_type": "markdown",
   "metadata": {
    "collapsed": true
   },
   "source": [
    "###  5. Evaluate the Results\n",
    "    I also include the results to the analysis in the \"FINDINGS\" cells. \n",
    "    \n",
    "#### Pricing Trends:\n",
    "    When and where to stay:\n",
    "    What are the most popular booked property types in Seattle? Houses and Apartments\n",
    "    What are the peak booking months in Seattle?  June through August\n",
    "    What are the most and least popular locations to book based on price?  Most popular South east magnolia and Portage bay. Least popular is Olympic Bay and Ranier Beach\n",
    "\n",
    "#### Airbnb review sentiments in Seattle:\n",
    "    What are the most and least popular locations to book based on Reviews? Most popular are Roxhill and Cedar Park, Least popular are holly park and view ridge\n",
    "\n",
    "#### Price Prediction:\n",
    "    What factors of the listing correlate best for predicting price? In my observation it would be Bedrooms, bathrooms, bed and host listings count \n",
    "    \n",
    "    "
   ]
  },
  {
   "cell_type": "code",
   "execution_count": null,
   "metadata": {
    "collapsed": true
   },
   "outputs": [],
   "source": []
  }
 ],
 "metadata": {
  "kernelspec": {
   "display_name": "Python 3",
   "language": "python",
   "name": "python3"
  },
  "language_info": {
   "codemirror_mode": {
    "name": "ipython",
    "version": 3
   },
   "file_extension": ".py",
   "mimetype": "text/x-python",
   "name": "python",
   "nbconvert_exporter": "python",
   "pygments_lexer": "ipython3",
   "version": "3.6.1"
  }
 },
 "nbformat": 4,
 "nbformat_minor": 4
}
